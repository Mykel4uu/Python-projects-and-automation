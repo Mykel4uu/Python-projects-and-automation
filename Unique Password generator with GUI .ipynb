{
 "cells": [
  {
   "cell_type": "code",
   "execution_count": 2,
   "id": "2a5468b2",
   "metadata": {},
   "outputs": [],
   "source": [
    "import tkinter as tk\n",
    "import string\n",
    "import random\n",
    "def generate_password():\n",
    "    password = []\n",
    "    for i in range(5):\n",
    "        alpha = random.choice(string.ascii_letters)\n",
    "        symbol = random.choice(string.punctuation)\n",
    "        numbers = random.choice(string.digits)\n",
    "        password.append(alpha)\n",
    "        password.append(symbol)\n",
    "        password.append(numbers)\n",
    "        passwords = \" \".join(str(x)for x in password)\n",
    "        label.config(text=passwords)\n",
    "root = tk.Tk()\n",
    "root.geometry(\"400x300\")\n",
    "button = tk.Button(root, text=\"Generate Password\", command=generate_password)\n",
    "button.grid(row=1, column=1)\n",
    "label = tk.Label(root, font=(\"times\", 15, \"bold\"))\n",
    "label.grid(row=4, column=2)\n",
    "root.mainloop()"
   ]
  },
  {
   "cell_type": "code",
   "execution_count": null,
   "id": "373ff3f0",
   "metadata": {},
   "outputs": [],
   "source": []
  }
 ],
 "metadata": {
  "kernelspec": {
   "display_name": "Python 3 (ipykernel)",
   "language": "python",
   "name": "python3"
  },
  "language_info": {
   "codemirror_mode": {
    "name": "ipython",
    "version": 3
   },
   "file_extension": ".py",
   "mimetype": "text/x-python",
   "name": "python",
   "nbconvert_exporter": "python",
   "pygments_lexer": "ipython3",
   "version": "3.9.12"
  }
 },
 "nbformat": 4,
 "nbformat_minor": 5
}
